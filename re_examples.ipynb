{
  "nbformat": 4,
  "nbformat_minor": 0,
  "metadata": {
    "colab": {
      "name": "re_examples.ipynb",
      "provenance": [],
      "authorship_tag": "ABX9TyM9gVLgOkZLHLaKrWI9U5FW",
      "include_colab_link": true
    },
    "kernelspec": {
      "name": "python3",
      "display_name": "Python 3"
    },
    "language_info": {
      "name": "python"
    }
  },
  "cells": [
    {
      "cell_type": "markdown",
      "metadata": {
        "id": "view-in-github",
        "colab_type": "text"
      },
      "source": [
        "<a href=\"https://colab.research.google.com/github/TensorFlowing/Python_toolbox/blob/main/re_examples.ipynb\" target=\"_parent\"><img src=\"https://colab.research.google.com/assets/colab-badge.svg\" alt=\"Open In Colab\"/></a>"
      ]
    },
    {
      "cell_type": "code",
      "metadata": {
        "colab": {
          "base_uri": "https://localhost:8080/"
        },
        "id": "5MKm_wgnaQx8",
        "outputId": "f3a6befc-b316-4b4c-fb2d-15e0bc6418d8"
      },
      "source": [
        "import re\n",
        "\n",
        "# Example 1: extract a number from a string (the number can be one or multiple digits)\n",
        "str1 = \"File number 93 unprocessed!\"\n",
        "str2 = \"File number 8 processed!\"\n",
        "\n",
        "pobj = re.compile(\"File number ([0-9]*).*\") # pattern object\n",
        "mobj_str1 = pobj.match(str1) # match object\n",
        "mobj_str2 = pobj.match(str2) # match object\n",
        "\n",
        "print(mobj_str1.group(1)) # group(0) is the entire matched string, while group(1) is the sub-string inside the () as the delimiter\n",
        "print(mobj_str2.group(1))\n",
        "#"
      ],
      "execution_count": 17,
      "outputs": [
        {
          "output_type": "stream",
          "text": [
            "93\n",
            "8\n"
          ],
          "name": "stdout"
        }
      ]
    },
    {
      "cell_type": "code",
      "metadata": {
        "id": "YFb_8_dFqvw-"
      },
      "source": [
        ""
      ],
      "execution_count": null,
      "outputs": []
    }
  ]
}